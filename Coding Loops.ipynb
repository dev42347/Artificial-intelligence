{
 "cells": [
  {
   "cell_type": "code",
   "execution_count": 1,
   "id": "172ff6d5",
   "metadata": {},
   "outputs": [
    {
     "name": "stdout",
     "output_type": "stream",
     "text": [
      "Input: list1 = [12, -7, 5, 64, -14]\n",
      "Output: [12, 5, 64]\n",
      "Input: list2 = [12, 14, -95, 3]\n",
      "Output: [12, 14, 3]\n"
     ]
    }
   ],
   "source": [
    "def print_positive_numbers(input_list):\n",
    "    positive_numbers = []\n",
    "    for num in input_list:\n",
    "        if num > 0:\n",
    "            positive_numbers.append(num)\n",
    "    \n",
    "    print(positive_numbers)\n",
    "\n",
    "list1 = [12, -7, 5, 64, -14]\n",
    "list2 = [12, 14, -95, 3]\n",
    "\n",
    "print(\"Input: list1 =\", list1)\n",
    "print(\"Output:\", end=\" \")\n",
    "print_positive_numbers(list1)\n",
    "\n",
    "print(\"Input: list2 =\", list2)\n",
    "print(\"Output:\", end=\" \")\n",
    "print_positive_numbers(list2)"
   ]
  },
  {
   "cell_type": "code",
   "execution_count": null,
   "id": "77cbae48",
   "metadata": {},
   "outputs": [],
   "source": []
  }
 ],
 "metadata": {
  "kernelspec": {
   "display_name": "Python 3 (ipykernel)",
   "language": "python",
   "name": "python3"
  },
  "language_info": {
   "codemirror_mode": {
    "name": "ipython",
    "version": 3
   },
   "file_extension": ".py",
   "mimetype": "text/x-python",
   "name": "python",
   "nbconvert_exporter": "python",
   "pygments_lexer": "ipython3",
   "version": "3.11.4"
  }
 },
 "nbformat": 4,
 "nbformat_minor": 5
}
