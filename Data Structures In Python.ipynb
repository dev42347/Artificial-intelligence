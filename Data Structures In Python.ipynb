{
 "cells": [
  {
   "cell_type": "code",
   "execution_count": 2,
   "id": "0cd344bf",
   "metadata": {},
   "outputs": [
    {
     "name": "stdout",
     "output_type": "stream",
     "text": [
      "Union of E and N is {0, 1, 2, 3, 4, 5, 6, 8}\n",
      "Intersection of E and N is {2, 4}\n",
      "Difference of E and N is {0, 8, 6}\n",
      "Symmetric difference of E and N is {0, 1, 3, 5, 6, 8}\n"
     ]
    }
   ],
   "source": [
    "# Define two sets\n",
    "E = {0, 2, 4, 6, 8}\n",
    "N = {1, 2, 3, 4, 5}\n",
    "\n",
    "# Perform set operations\n",
    "union_result = E | N  # Union of E and N\n",
    "intersection_result = E & N  # Intersection of E and N\n",
    "difference_result = E - N  # Difference of E and N\n",
    "symmetric_difference_result = E ^ N  # Symmetric Difference of E and N\n",
    "\n",
    "# Display the results\n",
    "print(f\"Union of E and N is {union_result}\")\n",
    "print(f\"Intersection of E and N is {intersection_result}\")\n",
    "print(f\"Difference of E and N is {difference_result}\")\n",
    "print(f\"Symmetric difference of E and N is {symmetric_difference_result}\")"
   ]
  },
  {
   "cell_type": "code",
   "execution_count": null,
   "id": "1be5e6b5",
   "metadata": {},
   "outputs": [],
   "source": []
  }
 ],
 "metadata": {
  "kernelspec": {
   "display_name": "Python 3 (ipykernel)",
   "language": "python",
   "name": "python3"
  },
  "language_info": {
   "codemirror_mode": {
    "name": "ipython",
    "version": 3
   },
   "file_extension": ".py",
   "mimetype": "text/x-python",
   "name": "python",
   "nbconvert_exporter": "python",
   "pygments_lexer": "ipython3",
   "version": "3.11.4"
  }
 },
 "nbformat": 4,
 "nbformat_minor": 5
}
