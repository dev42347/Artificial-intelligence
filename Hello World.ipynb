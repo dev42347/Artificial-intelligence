{
 "cells": [
  {
   "cell_type": "code",
   "execution_count": 1,
   "id": "ad73f46e",
   "metadata": {},
   "outputs": [],
   "source": [
    "# Displaying \"Hello World!\" on the screen"
   ]
  },
  {
   "cell_type": "code",
   "execution_count": 2,
   "id": "77027a23",
   "metadata": {},
   "outputs": [],
   "source": [
    "# print is a Python defined default function, we are simply using it here"
   ]
  },
  {
   "cell_type": "code",
   "execution_count": 3,
   "id": "6eb088b0",
   "metadata": {},
   "outputs": [
    {
     "name": "stdout",
     "output_type": "stream",
     "text": [
      "Hello World!\n"
     ]
    }
   ],
   "source": [
    "print(\"Hello World!\")"
   ]
  },
  {
   "cell_type": "code",
   "execution_count": null,
   "id": "8979dfd4",
   "metadata": {},
   "outputs": [],
   "source": []
  }
 ],
 "metadata": {
  "kernelspec": {
   "display_name": "Python 3 (ipykernel)",
   "language": "python",
   "name": "python3"
  },
  "language_info": {
   "codemirror_mode": {
    "name": "ipython",
    "version": 3
   },
   "file_extension": ".py",
   "mimetype": "text/x-python",
   "name": "python",
   "nbconvert_exporter": "python",
   "pygments_lexer": "ipython3",
   "version": "3.11.4"
  }
 },
 "nbformat": 4,
 "nbformat_minor": 5
}
